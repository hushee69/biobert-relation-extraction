{
  "nbformat": 4,
  "nbformat_minor": 0,
  "metadata": {
    "colab": {
      "name": "euadr-dataset-with-bert.ipynb",
      "provenance": [],
      "collapsed_sections": [],
      "authorship_tag": "ABX9TyNJkp50k+nLky7mx5yGbnFJ",
      "include_colab_link": true
    },
    "kernelspec": {
      "name": "python3",
      "display_name": "Python 3"
    },
    "accelerator": "GPU"
  },
  "cells": [
    {
      "cell_type": "markdown",
      "metadata": {
        "id": "view-in-github",
        "colab_type": "text"
      },
      "source": [
        "<a href=\"https://colab.research.google.com/github/hushee69/biobert-relation-extraction/blob/main/euadr_dataset_with_bert.ipynb\" target=\"_parent\"><img src=\"https://colab.research.google.com/assets/colab-badge.svg\" alt=\"Open In Colab\"/></a>"
      ]
    },
    {
      "cell_type": "code",
      "metadata": {
        "colab": {
          "base_uri": "https://localhost:8080/"
        },
        "id": "asONPSIFkEx3",
        "outputId": "9721a608-ce1f-4d3e-8039-33ef6ff7946a"
      },
      "source": [
        "# datasets link: https://drive.google.com/open?id=1-jDKGcXREb2X9xTFnuiJ36PvsqoyHWcw\r\n",
        "\r\n",
        "!pip install transformers"
      ],
      "execution_count": 1,
      "outputs": [
        {
          "output_type": "stream",
          "text": [
            "Requirement already satisfied: transformers in /usr/local/lib/python3.6/dist-packages (4.1.1)\n",
            "Requirement already satisfied: filelock in /usr/local/lib/python3.6/dist-packages (from transformers) (3.0.12)\n",
            "Requirement already satisfied: dataclasses; python_version < \"3.7\" in /usr/local/lib/python3.6/dist-packages (from transformers) (0.8)\n",
            "Requirement already satisfied: tqdm>=4.27 in /usr/local/lib/python3.6/dist-packages (from transformers) (4.41.1)\n",
            "Requirement already satisfied: sacremoses in /usr/local/lib/python3.6/dist-packages (from transformers) (0.0.43)\n",
            "Requirement already satisfied: requests in /usr/local/lib/python3.6/dist-packages (from transformers) (2.23.0)\n",
            "Requirement already satisfied: numpy in /usr/local/lib/python3.6/dist-packages (from transformers) (1.19.4)\n",
            "Requirement already satisfied: tokenizers==0.9.4 in /usr/local/lib/python3.6/dist-packages (from transformers) (0.9.4)\n",
            "Requirement already satisfied: packaging in /usr/local/lib/python3.6/dist-packages (from transformers) (20.8)\n",
            "Requirement already satisfied: regex!=2019.12.17 in /usr/local/lib/python3.6/dist-packages (from transformers) (2019.12.20)\n",
            "Requirement already satisfied: six in /usr/local/lib/python3.6/dist-packages (from sacremoses->transformers) (1.15.0)\n",
            "Requirement already satisfied: click in /usr/local/lib/python3.6/dist-packages (from sacremoses->transformers) (7.1.2)\n",
            "Requirement already satisfied: joblib in /usr/local/lib/python3.6/dist-packages (from sacremoses->transformers) (1.0.0)\n",
            "Requirement already satisfied: chardet<4,>=3.0.2 in /usr/local/lib/python3.6/dist-packages (from requests->transformers) (3.0.4)\n",
            "Requirement already satisfied: certifi>=2017.4.17 in /usr/local/lib/python3.6/dist-packages (from requests->transformers) (2020.12.5)\n",
            "Requirement already satisfied: idna<3,>=2.5 in /usr/local/lib/python3.6/dist-packages (from requests->transformers) (2.10)\n",
            "Requirement already satisfied: urllib3!=1.25.0,!=1.25.1,<1.26,>=1.21.1 in /usr/local/lib/python3.6/dist-packages (from requests->transformers) (1.24.3)\n",
            "Requirement already satisfied: pyparsing>=2.0.2 in /usr/local/lib/python3.6/dist-packages (from packaging->transformers) (2.4.7)\n"
          ],
          "name": "stdout"
        }
      ]
    },
    {
      "cell_type": "code",
      "metadata": {
        "id": "YoWs_ms5XRw-"
      },
      "source": [
        "import numpy as np;\r\n",
        "import pandas as pd;\r\n",
        "\r\n",
        "import torch;\r\n",
        "\r\n",
        "from transformers import BertTokenizer, BertForSequenceClassification, AdamW, BertConfig;\r\n",
        "from torch.utils.data import TensorDataset, random_split, DataLoader, RandomSampler, SequentialSampler;\r\n",
        "from transformers import get_linear_schedule_with_warmup;\r\n",
        "\r\n",
        "from sklearn.metrics import precision_score, recall_score, f1_score;"
      ],
      "execution_count": 2,
      "outputs": []
    },
    {
      "cell_type": "code",
      "metadata": {
        "colab": {
          "base_uri": "https://localhost:8080/"
        },
        "id": "uJEUllxpY7dM",
        "outputId": "c47a5253-6bc3-4014-b128-f1c54532f6b1"
      },
      "source": [
        "from google.colab import drive;\r\n",
        "\r\n",
        "drive.mount('/content/gdrive');"
      ],
      "execution_count": 3,
      "outputs": [
        {
          "output_type": "stream",
          "text": [
            "Drive already mounted at /content/gdrive; to attempt to forcibly remount, call drive.mount(\"/content/gdrive\", force_remount=True).\n"
          ],
          "name": "stdout"
        }
      ]
    },
    {
      "cell_type": "code",
      "metadata": {
        "id": "1NcYLTaLhdGJ"
      },
      "source": [
        "path='/content/gdrive/MyDrive/biobert_re/';"
      ],
      "execution_count": 4,
      "outputs": []
    },
    {
      "cell_type": "code",
      "metadata": {
        "id": "b6iKt23StQFZ"
      },
      "source": [
        "device = torch.device('cuda');"
      ],
      "execution_count": 5,
      "outputs": []
    },
    {
      "cell_type": "code",
      "metadata": {
        "id": "2rH4qL4Cl_Mi"
      },
      "source": [
        "def accuracy(preds, labels):\r\n",
        "    preds = np.argmax(preds, axis=1).flatten();\r\n",
        "    labels = labels.flatten();\r\n",
        "\r\n",
        "    return np.sum(preds == labels) / len(labels);"
      ],
      "execution_count": 6,
      "outputs": []
    },
    {
      "cell_type": "code",
      "metadata": {
        "id": "fiR5EcY7YwkG"
      },
      "source": [
        "\"\"\"\r\n",
        "    Params:\r\n",
        "        filepath: path of the dataset\r\n",
        "        tokenizer: tokenizer to use\r\n",
        "        maxlen: maxlength of text\r\n",
        "\"\"\"\r\n",
        "def load_and_process_euadr_train_data(filepath, tokenizer, maxlen=512, train_percentage=0.7):\r\n",
        "    # load dataset\r\n",
        "    df = pd.read_csv(filepath, header=None, delimiter='\\t', names=['sentence', 'label']);\r\n",
        "\r\n",
        "    sentences = df.sentence.values;\r\n",
        "    labels = df.label.values;\r\n",
        "    \r\n",
        "    input_ids = [];\r\n",
        "    attention_masks = [];\r\n",
        "    \r\n",
        "    for sent in sentences:\r\n",
        "        encoded_dict = tokenizer.encode_plus(\r\n",
        "            sent,\r\n",
        "            add_special_tokens=True,\r\n",
        "            max_length=maxlen,\r\n",
        "            padding='max_length',\r\n",
        "            truncation=True,\r\n",
        "            return_attention_mask=True,\r\n",
        "            return_tensors='pt'\r\n",
        "        );\r\n",
        "\r\n",
        "        input_ids.append(encoded_dict['input_ids']);\r\n",
        "        attention_masks.append(encoded_dict['attention_mask']);\r\n",
        "\r\n",
        "    # convert lists into tensors\r\n",
        "    input_ids = torch.cat(input_ids, dim=0);\r\n",
        "    attention_masks = torch.cat(attention_masks, dim=0);\r\n",
        "    labels_tensor = torch.tensor(labels);\r\n",
        "\r\n",
        "    dataset = TensorDataset(input_ids, attention_masks, labels_tensor);\r\n",
        "\r\n",
        "    train_size = int(train_percentage * len(dataset));\r\n",
        "    val_size = len(dataset) - train_size;\r\n",
        "\r\n",
        "    train_dataset, val_dataset = random_split(dataset, [train_size, val_size]);\r\n",
        "\r\n",
        "    return (train_dataset, val_dataset);"
      ],
      "execution_count": 7,
      "outputs": []
    },
    {
      "cell_type": "code",
      "metadata": {
        "id": "n5hxq5PBk3w_"
      },
      "source": [
        "def train_euadr_model(model, data, optimizer=AdamW, batch_size=32, epochs=3):\r\n",
        "    max_val_loss = np.float('inf');\r\n",
        "\r\n",
        "    train_ds = data[0];\r\n",
        "    val_ds = data[1];\r\n",
        "\r\n",
        "    train_dataloader = DataLoader(\r\n",
        "        train_ds,\r\n",
        "        sampler=RandomSampler(train_ds),\r\n",
        "        batch_size=batch_size\r\n",
        "    );\r\n",
        "\r\n",
        "    val_dataloader = DataLoader(\r\n",
        "        val_ds,\r\n",
        "        sampler=SequentialSampler(val_ds),\r\n",
        "        batch_size=batch_size\r\n",
        "    );\r\n",
        "\r\n",
        "    for e in range(epochs):\r\n",
        "        train_loss = 0;\r\n",
        "        train_acc = 0;\r\n",
        "\r\n",
        "        model.train();\r\n",
        "\r\n",
        "        optim = optimizer(model.parameters(), lr=2e-5, eps=1e-8);\r\n",
        "\r\n",
        "        scheduler = get_linear_schedule_with_warmup(\r\n",
        "            optim,\r\n",
        "            num_warmup_steps=0,\r\n",
        "            num_training_steps=len(train_dataloader) * epochs\r\n",
        "        );\r\n",
        "\r\n",
        "        for batch in train_dataloader:\r\n",
        "            b_input_ids = batch[0].to(device);\r\n",
        "            b_input_mask = batch[1].to(device);\r\n",
        "            b_labels = batch[2].to(device);\r\n",
        "\r\n",
        "            model.zero_grad();\r\n",
        "\r\n",
        "            output = model(\r\n",
        "                b_input_ids,\r\n",
        "                token_type_ids=None,\r\n",
        "                attention_mask=b_input_mask,\r\n",
        "                labels=b_labels\r\n",
        "            );\r\n",
        "\r\n",
        "            loss = output['loss'];\r\n",
        "            preds = output['logits'].detach().cpu().numpy();\r\n",
        "            labels = b_labels.to('cpu').numpy();\r\n",
        "\r\n",
        "            train_loss += loss.item();\r\n",
        "            train_acc += accuracy(preds, labels);\r\n",
        "\r\n",
        "            loss.backward();\r\n",
        "\r\n",
        "            torch.nn.utils.clip_grad_norm_(model.parameters(), 1.0);\r\n",
        "\r\n",
        "            optim.step();\r\n",
        "\r\n",
        "            scheduler.step();\r\n",
        "        \r\n",
        "        avg_train_loss = train_loss / len(train_dataloader);\r\n",
        "        avg_train_acc = train_acc / len(train_dataloader);\r\n",
        "\r\n",
        "        print('average training loss for epoch: {}'.format(avg_train_loss));\r\n",
        "        print('average training accuracy for epoch: {}'.format(avg_train_acc));\r\n",
        "\r\n",
        "        # validation\r\n",
        "        val_loss = 0;\r\n",
        "        val_acc = 0;\r\n",
        "\r\n",
        "        model.eval();\r\n",
        "\r\n",
        "        for batch in val_dataloader:\r\n",
        "            b_input_ids = batch[0].to(device);\r\n",
        "            b_attention_mask = batch[1].to(device);\r\n",
        "            b_labels = batch[2].to(device);\r\n",
        "\r\n",
        "            with torch.no_grad():\r\n",
        "                output = model(\r\n",
        "                    b_input_ids,\r\n",
        "                    token_type_ids=None,\r\n",
        "                    attention_mask=b_attention_mask,\r\n",
        "                    labels=b_labels\r\n",
        "                );\r\n",
        "            \r\n",
        "            loss = output['loss'];\r\n",
        "            preds = output['logits'].detach().cpu().numpy();\r\n",
        "            labels = b_labels.to('cpu').numpy();\r\n",
        "\r\n",
        "            val_loss += loss.item();\r\n",
        "            val_acc += accuracy(preds, labels);\r\n",
        "        \r\n",
        "        avg_val_loss = val_loss / len(val_dataloader);\r\n",
        "        avg_val_acc = val_acc / len(val_dataloader);\r\n",
        "\r\n",
        "        if avg_val_loss < max_val_loss:\r\n",
        "            max_val_loss = avg_val_loss;\r\n",
        "            torch.save(model.state_dict(), 'best_model.pt');\r\n",
        "\r\n",
        "        print('average validation loss for epoch: {}'.format(avg_val_loss));\r\n",
        "        print('average validation accuracy for epoch: {}'.format(avg_val_acc));"
      ],
      "execution_count": 8,
      "outputs": []
    },
    {
      "cell_type": "markdown",
      "metadata": {
        "id": "hYz30W6M16nb"
      },
      "source": [
        "**Training EU-ADR**\r\n",
        "\r\n",
        "Since there is not much data in EU-ADR dataset, we chose to have 3 epochs so as to prevent overfitting of data. This decision was not experimental since the authors advise fine-tuning using 2-4 epochs."
      ]
    },
    {
      "cell_type": "code",
      "metadata": {
        "colab": {
          "base_uri": "https://localhost:8080/"
        },
        "id": "-N2QWcTMkBT9",
        "outputId": "44323a5f-d1dc-4f67-d003-6ac950940b06"
      },
      "source": [
        "tokenizer = BertTokenizer.from_pretrained('bert-base-uncased');\r\n",
        "\r\n",
        "model = BertForSequenceClassification.from_pretrained(\r\n",
        "    'bert-base-uncased',\r\n",
        "    num_labels=2,\r\n",
        "    output_attentions=False,\r\n",
        "    output_hidden_states=False\r\n",
        ");\r\n",
        "\r\n",
        "device = torch.device('cuda');\r\n",
        "model.cuda();\r\n",
        "\r\n",
        "epochs = 2;"
      ],
      "execution_count": 9,
      "outputs": [
        {
          "output_type": "stream",
          "text": [
            "Some weights of the model checkpoint at bert-base-uncased were not used when initializing BertForSequenceClassification: ['cls.predictions.bias', 'cls.predictions.transform.dense.weight', 'cls.predictions.transform.dense.bias', 'cls.predictions.decoder.weight', 'cls.seq_relationship.weight', 'cls.seq_relationship.bias', 'cls.predictions.transform.LayerNorm.weight', 'cls.predictions.transform.LayerNorm.bias']\n",
            "- This IS expected if you are initializing BertForSequenceClassification from the checkpoint of a model trained on another task or with another architecture (e.g. initializing a BertForSequenceClassification model from a BertForPreTraining model).\n",
            "- This IS NOT expected if you are initializing BertForSequenceClassification from the checkpoint of a model that you expect to be exactly identical (initializing a BertForSequenceClassification model from a BertForSequenceClassification model).\n",
            "Some weights of BertForSequenceClassification were not initialized from the model checkpoint at bert-base-uncased and are newly initialized: ['classifier.weight', 'classifier.bias']\n",
            "You should probably TRAIN this model on a down-stream task to be able to use it for predictions and inference.\n"
          ],
          "name": "stderr"
        }
      ]
    },
    {
      "cell_type": "code",
      "metadata": {
        "colab": {
          "base_uri": "https://localhost:8080/"
        },
        "id": "-nPNQdAJi1Ff",
        "outputId": "27e116ea-2248-4fd3-ba63-81f8eca574b6"
      },
      "source": [
        "for i in range(10):\r\n",
        "    data = load_and_process_euadr_train_data(path + 'euadr/' + str(i + 1) + '/train.tsv', tokenizer=tokenizer, maxlen=128);\r\n",
        "    train_euadr_model(model, data);"
      ],
      "execution_count": null,
      "outputs": [
        {
          "output_type": "stream",
          "text": [
            "average training loss for epoch: 0.60955639396395\n",
            "average training accuracy for epoch: 0.6761904761904762\n",
            "average validation loss for epoch: 0.4938584864139557\n",
            "average validation accuracy for epoch: 0.7916666666666666\n",
            "average training loss for epoch: 0.5597275580678668\n",
            "average training accuracy for epoch: 0.7208333333333333\n",
            "average validation loss for epoch: 0.4805082579453786\n",
            "average validation accuracy for epoch: 0.7916666666666666\n",
            "average training loss for epoch: 0.5079634402479444\n",
            "average training accuracy for epoch: 0.7473214285714286\n",
            "average validation loss for epoch: 0.45255379875500995\n",
            "average validation accuracy for epoch: 0.8229166666666666\n",
            "average training loss for epoch: 0.49522543804986136\n",
            "average training accuracy for epoch: 0.7663690476190476\n",
            "average validation loss for epoch: 0.4159041841824849\n",
            "average validation accuracy for epoch: 0.8125\n",
            "average training loss for epoch: 0.46038676159722464\n",
            "average training accuracy for epoch: 0.7964285714285715\n",
            "average validation loss for epoch: 0.40517204999923706\n",
            "average validation accuracy for epoch: 0.8020833333333334\n",
            "average training loss for epoch: 0.4141862094402313\n",
            "average training accuracy for epoch: 0.8116071428571429\n",
            "average validation loss for epoch: 0.4201277991135915\n",
            "average validation accuracy for epoch: 0.7708333333333334\n",
            "average training loss for epoch: 0.45331465346472605\n",
            "average training accuracy for epoch: 0.7847062211981567\n",
            "average validation loss for epoch: 0.37478814522425336\n",
            "average validation accuracy for epoch: 0.8125\n",
            "average training loss for epoch: 0.3829133766038077\n",
            "average training accuracy for epoch: 0.865639400921659\n",
            "average validation loss for epoch: 0.3537801702817281\n",
            "average validation accuracy for epoch: 0.8125\n",
            "average training loss for epoch: 0.3877046640430178\n",
            "average training accuracy for epoch: 0.8209965437788018\n",
            "average validation loss for epoch: 0.4309283097585042\n",
            "average validation accuracy for epoch: 0.7708333333333334\n",
            "average training loss for epoch: 0.353708416223526\n",
            "average training accuracy for epoch: 0.84375\n",
            "average validation loss for epoch: 0.36258240540822345\n",
            "average validation accuracy for epoch: 0.84375\n",
            "average training loss for epoch: 0.38816175929137636\n",
            "average training accuracy for epoch: 0.8214285714285714\n",
            "average validation loss for epoch: 0.4104475180308024\n",
            "average validation accuracy for epoch: 0.8125\n",
            "average training loss for epoch: 0.30519444601876394\n",
            "average training accuracy for epoch: 0.8839285714285714\n",
            "average validation loss for epoch: 0.4333716829617818\n",
            "average validation accuracy for epoch: 0.8125\n",
            "average training loss for epoch: 0.25767200546605246\n",
            "average training accuracy for epoch: 0.9107142857142857\n",
            "average validation loss for epoch: 0.32649839917818707\n",
            "average validation accuracy for epoch: 0.8854166666666666\n",
            "average training loss for epoch: 0.24475275618689402\n",
            "average training accuracy for epoch: 0.8973214285714286\n",
            "average validation loss for epoch: 0.2990008741617203\n",
            "average validation accuracy for epoch: 0.8645833333333334\n",
            "average training loss for epoch: 0.24749881561313355\n",
            "average training accuracy for epoch: 0.9017857142857143\n",
            "average validation loss for epoch: 0.31454476217428845\n",
            "average validation accuracy for epoch: 0.8645833333333334\n"
          ],
          "name": "stdout"
        }
      ]
    },
    {
      "cell_type": "code",
      "metadata": {
        "id": "-WTXMD-l21ko"
      },
      "source": [
        "from IPython.display import display;"
      ],
      "execution_count": null,
      "outputs": []
    },
    {
      "cell_type": "code",
      "metadata": {
        "id": "Wl9LBgJ92Wlq"
      },
      "source": [
        "\"\"\"\r\n",
        "    Params:\r\n",
        "        filepath: path of the dataset\r\n",
        "        tokenizer: tokenizer to use\r\n",
        "        maxlen: maxlength of text\r\n",
        "\"\"\"\r\n",
        "def load_and_process_euadr_test_data(filepath, tokenizer, maxlen=512):\r\n",
        "    # load dataset\r\n",
        "    df = pd.read_csv(filepath, delimiter='\\t', header=None, names=['wrong_index', 'sentence', 'label']);\r\n",
        "\r\n",
        "    sentences = df.sentence.values;\r\n",
        "    labels = df.label.values;\r\n",
        "    \r\n",
        "    input_ids = [];\r\n",
        "    attention_masks = [];\r\n",
        "    \r\n",
        "    for sent in sentences:\r\n",
        "        encoded_dict = tokenizer.encode_plus(\r\n",
        "            sent,\r\n",
        "            add_special_tokens=True,\r\n",
        "            max_length=maxlen,\r\n",
        "            padding='max_length',\r\n",
        "            truncation=True,\r\n",
        "            return_attention_mask=True,\r\n",
        "            return_tensors='pt'\r\n",
        "        );\r\n",
        "\r\n",
        "        input_ids.append(encoded_dict['input_ids']);\r\n",
        "        attention_masks.append(encoded_dict['attention_mask']);\r\n",
        "\r\n",
        "    # convert lists into tensors\r\n",
        "    input_ids = torch.cat(input_ids, dim=0);\r\n",
        "    attention_masks = torch.cat(attention_masks, dim=0);\r\n",
        "    labels_tensor = torch.tensor(labels);\r\n",
        "\r\n",
        "    dataset = TensorDataset(input_ids, attention_masks, labels_tensor);\r\n",
        "\r\n",
        "    return dataset;"
      ],
      "execution_count": null,
      "outputs": []
    },
    {
      "cell_type": "code",
      "metadata": {
        "id": "no5-wVSo5_ZV"
      },
      "source": [
        "def test_euadr_model(model, data, batch_size=32):\r\n",
        "    model.load_state_dict(torch.load('best_model.pt'));\r\n",
        "\r\n",
        "    model.eval();\r\n",
        "\r\n",
        "    ds = data;\r\n",
        "\r\n",
        "    test_dataloader = DataLoader(\r\n",
        "        ds,\r\n",
        "        sampler=SequentialSampler(ds),\r\n",
        "        batch_size=batch_size,\r\n",
        "    );\r\n",
        "\r\n",
        "    preds_list, real_labels_list = [], [];\r\n",
        "\r\n",
        "    total_accuracy_for_file = 0;\r\n",
        "    total_precision_for_file = 0;\r\n",
        "    total_recall_for_file = 0;\r\n",
        "    total_f1_score_for_file = 0;\r\n",
        "\r\n",
        "    for batch_nbr, batch in enumerate(test_dataloader):\r\n",
        "        b_input_ids = batch[0].to(device);\r\n",
        "        b_input_mask = batch[1].to(device);\r\n",
        "        b_labels = batch[2].to(device);\r\n",
        "\r\n",
        "        with torch.no_grad():\r\n",
        "            outputs = model(\r\n",
        "                b_input_ids,\r\n",
        "                token_type_ids=None,\r\n",
        "                attention_mask=b_input_mask\r\n",
        "            );\r\n",
        "        \r\n",
        "        logits = outputs['logits'].detach().cpu().numpy();\r\n",
        "        label_ids = b_labels.to('cpu').numpy();\r\n",
        "        preds = np.argmax(logits, axis=1);\r\n",
        "\r\n",
        "        preds_list.append(preds);\r\n",
        "        real_labels_list.append(real_labels_list);\r\n",
        "\r\n",
        "        print('real: {}'.format(label_ids));\r\n",
        "        print('preds: {}'.format(preds));\r\n",
        "        print();\r\n",
        "        \r\n",
        "        batch_acc = accuracy(logits, label_ids);\r\n",
        "        total_accuracy_for_file += batch_acc;\r\n",
        "        \r\n",
        "        batch_precision = precision_score(label_ids, preds);\r\n",
        "        total_precision_for_file += batch_precision;\r\n",
        "\r\n",
        "        batch_recall = recall_score(label_ids, preds);\r\n",
        "        total_recall_for_file += batch_recall;\r\n",
        "\r\n",
        "        batch_f1 = f1_score(label_ids, preds);\r\n",
        "        total_f1_score_for_file += batch_f1;\r\n",
        "\r\n",
        "        print('accuracy for batch {}: {}'.format(batch_nbr, batch_acc));\r\n",
        "        print('precision for batch {}: {}'.format(batch_nbr, batch_precision));\r\n",
        "        print('recall for batch {}: {}'.format(batch_nbr, batch_recall));\r\n",
        "        print('f1 score for batch {}: {}'.format(batch_nbr, batch_f1));\r\n",
        "    \r\n",
        "    #preds_list_np = np.concatenate(preds_list); # predictions\r\n",
        "    #real_labels_list_np = np.concatenate(real_labels_list); # real labels\r\n",
        "    print('calculating scores over {} batches'.format(len(test_dataloader)));\r\n",
        "    ret = (\r\n",
        "        total_accuracy_for_file / len(test_dataloader),\r\n",
        "        total_precision_for_file / len(test_dataloader),\r\n",
        "        total_recall_for_file / len(test_dataloader),\r\n",
        "        total_f1_score_for_file / len(test_dataloader)\r\n",
        "    );\r\n",
        "    \r\n",
        "    return ret;"
      ],
      "execution_count": null,
      "outputs": []
    },
    {
      "cell_type": "code",
      "metadata": {
        "id": "3sd1YBpk9cFJ"
      },
      "source": [
        "# load test_accumulated.tsv file\r\n",
        "avg_test_accuracy = 0;\r\n",
        "\r\n",
        "test_data = load_and_process_euadr_test_data(path + 'euadr/test_accumulated.tsv', tokenizer=tokenizer);\r\n",
        "print('length of test datafile: '.format(test_data));\r\n",
        "\r\n",
        "ret = test_euadr_model(model, test_data);"
      ],
      "execution_count": null,
      "outputs": []
    },
    {
      "cell_type": "code",
      "metadata": {
        "id": "JKkzrVTw7dQK"
      },
      "source": [
        "total_accuracy_for_files = 0;\r\n",
        "total_precision_for_files = 0;\r\n",
        "total_recall_for_files = 0;\r\n",
        "total_f1_score_for_files = 0;\r\n",
        "\r\n",
        "preds_list_all_files = [];\r\n",
        "real_labels_list_all_files = [];\r\n",
        "\r\n",
        "for i in range(10):\r\n",
        "    data = load_and_process_euadr_test_data(path + 'euadr/' + str(i + 1) + '/test.tsv', tokenizer=tokenizer, maxlen=128);\r\n",
        "    ret = test_euadr_model(model, data);\r\n",
        "    total_accuracy_for_files += ret[0];\r\n",
        "    total_precision_for_files += ret[1];\r\n",
        "    total_recall_for_files += ret[2];\r\n",
        "    total_f1_score_for_files += ret[3];\r\n",
        "\r\n",
        "    #preds_list_all_files.append(ret[4]);\r\n",
        "    #real_labels_list_all_files.append(ret[5]);\r\n",
        "\r\n",
        "    print();\r\n",
        "    print('accuracy for file {}: {}'.format((i + 1), ret[0]));\r\n",
        "    print('precision for file {}: {}'.format((i + 1), ret[1]));\r\n",
        "    print('recall for file {}: {}'.format((i + 1), ret[2]));\r\n",
        "    print('f1 score for file {}: {}'.format((i + 1), ret[3]));\r\n",
        "    print();\r\n",
        "    print();\r\n",
        "\r\n",
        "# 10 files\r\n",
        "print('test accuracy for all files: {}%'.format(((total_accuracy_for_files) / 10) * 100));\r\n",
        "print('test precision for all files: {}%'.format(((total_precision_for_files) / 10) * 100));\r\n",
        "print('test recall for all files: {}%'.format(((total_recall_for_files) / 10) * 100));\r\n",
        "print('test f1 score for all files: {}%'.format(((total_f1_score_for_files) / 10) * 100));\r\n",
        "\r\n",
        "print('all files predictions', preds_list_all_files);"
      ],
      "execution_count": null,
      "outputs": []
    },
    {
      "cell_type": "markdown",
      "metadata": {
        "id": "1H_0D5ozFHqU"
      },
      "source": [
        "**Previous F1-Score of State of the Art with EU-ADR dataset: 86.51%**\r\n",
        "\r\n",
        "![Screenshot_2021-01-08 OP-CBIO190693 1 7 - 1901 08746 pdf.png](data:image/png;base64,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)\r\n",
        "\r\n",
        "Source: https://arxiv.org/ftp/arxiv/papers/1901/1901.08746.pdf\r\n",
        "\r\n",
        "**State of the Art with EU-ADR dataset with this BERT model: 98.02%**"
      ]
    },
    {
      "cell_type": "code",
      "metadata": {
        "id": "5C9EkauSG9tq"
      },
      "source": [
        ""
      ],
      "execution_count": null,
      "outputs": []
    },
    {
      "cell_type": "code",
      "metadata": {
        "id": "9l76Wfm7pJG4"
      },
      "source": [
        "# https://stackoverflow.com/questions/49873676/how-to-calculate-the-average-of-training-accuracy-in-keras"
      ],
      "execution_count": null,
      "outputs": []
    }
  ]
}